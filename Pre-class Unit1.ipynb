{
 "cells": [
  {
   "cell_type": "code",
   "execution_count": 14,
   "metadata": {},
   "outputs": [
    {
     "data": {
      "text/plain": [
       "1"
      ]
     },
     "execution_count": 14,
     "metadata": {},
     "output_type": "execute_result"
    }
   ],
   "source": [
    "numbers = [1, 3, 7, 4, 3, 0, 3, 6, 3]\n",
    "numbers.count(4)"
   ]
  },
  {
   "cell_type": "code",
   "execution_count": null,
   "metadata": {},
   "outputs": [],
   "source": [
    "number = 0\n",
    "while number < 6:\n",
    "    print(number)\n",
    "    number += 1\n",
    "print(\"now, number is bigger or equal to 6\")"
   ]
  },
  {
   "cell_type": "code",
   "execution_count": null,
   "metadata": {},
   "outputs": [],
   "source": [
    "number = 0\n",
    "while number < 6:\n",
    "    print(number)\n",
    "    number += 1\n",
    "print(\"now, number is bigger or equal to 6\")"
   ]
  },
  {
   "cell_type": "code",
   "execution_count": 5,
   "metadata": {},
   "outputs": [
    {
     "name": "stdout",
     "output_type": "stream",
     "text": [
      "2\n",
      "4\n",
      "6\n",
      "the number is greater than 8\n"
     ]
    }
   ],
   "source": [
    "number = 2\n",
    "while number < 8:\n",
    "    print(number)\n",
    "    number += 2\n",
    "print(\"the number is greater than 8\")"
   ]
  },
  {
   "cell_type": "code",
   "execution_count": 8,
   "metadata": {},
   "outputs": [
    {
     "name": "stdout",
     "output_type": "stream",
     "text": [
      "the square number of 0 is 0.\n",
      "the square number of 1 is 1.\n",
      "the square number of 2 is 4.\n",
      "the square number of 3 is 9.\n",
      "the square number of 4 is 16.\n",
      "the square number of 5 is 25.\n",
      "Stop\n"
     ]
    }
   ],
   "source": [
    "liste = {\"A\",\"B\",\"C\",\"D\",\"E\",\"F\"}\n",
    "a = 0\n",
    "\n",
    "while a < len(liste):\n",
    "    print(\"the square number of {} is {}.\".format (a,a**2))\n",
    "    a += 1\n",
    "print(\"Stop\")\n"
   ]
  },
  {
   "cell_type": "code",
   "execution_count": null,
   "metadata": {},
   "outputs": [],
   "source": [
    "\n",
    "        "
   ]
  },
  {
   "cell_type": "code",
   "execution_count": 13,
   "metadata": {
    "scrolled": true
   },
   "outputs": [
    {
     "name": "stdout",
     "output_type": "stream",
     "text": [
      "Let's play the guessing game!\n",
      "What number am I thinking of?  40\n",
      "Little higher\n",
      "What number am I thinking of?  38\n",
      "Little higher\n",
      "What number am I thinking of?  23\n",
      "Little higher\n",
      "What number am I thinking of?  67\n",
      "Little lower\n",
      "What number am I thinking of?  40\n",
      "Little higher\n",
      "What number am I thinking of?  44\n",
      "Are you a MINDREADER!!!\n"
     ]
    }
   ],
   "source": [
    "answer = 44\n",
    "\n",
    "question = 'What number am I thinking of?  '\n",
    "print (\"Let's play the guessing game!\")\n",
    "\n",
    "while True:\n",
    "    guess = int(input(question))\n",
    "\n",
    "    if guess < answer:\n",
    "        print('Little higher')\n",
    "    elif guess > answer:\n",
    "        print('Little lower')\n",
    "    else:  # guess == answer\n",
    "        print('Are you a MINDREADER!!!')\n",
    "        break"
   ]
  },
  {
   "cell_type": "code",
   "execution_count": null,
   "metadata": {},
   "outputs": [],
   "source": []
  },
  {
   "cell_type": "code",
   "execution_count": null,
   "metadata": {},
   "outputs": [],
   "source": [
    "number  = 40\n",
    "question = \"What is the number that I picked?\"\n",
    "\n",
    "while True:\n",
    "    guess = int(input(question))\n",
    "    if guess < number:\n",
    "     print(\"Go higher\")\n",
    "    elif guess > number:\n",
    "     print(\"Go lower\")\n",
    "    else:\n",
    "        print(\"the number I guessed is {}\".format(number))\n",
    "        break"
   ]
  },
  {
   "cell_type": "code",
   "execution_count": 54,
   "metadata": {},
   "outputs": [
    {
     "name": "stdout",
     "output_type": "stream",
     "text": [
      "Rose\n",
      "Orchid\n",
      "Tulip\n"
     ]
    }
   ],
   "source": [
    "flowers = ['Rose', 'Orchid', 'Tulip']\n",
    "count1 = len(flowers)\n",
    "\n",
    "while count1 > 0:\n",
    "    print(flowers.pop(0))\n",
    "    count1 -= 1\n",
    "    "
   ]
  },
  {
   "cell_type": "code",
   "execution_count": 3,
   "metadata": {},
   "outputs": [
    {
     "name": "stdout",
     "output_type": "stream",
     "text": [
      "['Rose', 'Orchid', 'Tulip']\n"
     ]
    }
   ],
   "source": [
    "flowers = ['Rose', 'Orchid', 'Tulip']\n",
    "print(flowers)"
   ]
  },
  {
   "cell_type": "code",
   "execution_count": 15,
   "metadata": {},
   "outputs": [
    {
     "name": "stdout",
     "output_type": "stream",
     "text": [
      "[12, 1, 39, 50, 0]\n"
     ]
    }
   ],
   "source": [
    "a = [12,0,39,50,1]\n",
    "\n",
    "first = a[0]\n",
    "\n",
    "i = 0\n",
    "j = 1\n",
    "while i < len(a):\n",
    "    if a[i] < first:\n",
    "        tmp = a[i]\n",
    "        a[i] = a[j]\n",
    "        a[j] = tmp\n",
    "    i += 1\n",
    "\n",
    "print(a)"
   ]
  },
  {
   "cell_type": "code",
   "execution_count": 92,
   "metadata": {},
   "outputs": [
    {
     "name": "stdout",
     "output_type": "stream",
     "text": [
      "Orchid\n",
      "Tulip\n"
     ]
    },
    {
     "ename": "IndexError",
     "evalue": "list index out of range",
     "output_type": "error",
     "traceback": [
      "\u001b[1;31m---------------------------------------------------------------------------\u001b[0m",
      "\u001b[1;31mIndexError\u001b[0m                                Traceback (most recent call last)",
      "\u001b[1;32m<ipython-input-92-06c56ab3cff8>\u001b[0m in \u001b[0;36m<module>\u001b[1;34m\u001b[0m\n\u001b[0;32m      4\u001b[0m \u001b[1;33m\u001b[0m\u001b[0m\n\u001b[0;32m      5\u001b[0m \u001b[1;32mwhile\u001b[0m \u001b[0mcount1\u001b[0m \u001b[1;33m>\u001b[0m \u001b[1;36m0\u001b[0m\u001b[1;33m:\u001b[0m\u001b[1;33m\u001b[0m\u001b[1;33m\u001b[0m\u001b[0m\n\u001b[1;32m----> 6\u001b[1;33m     \u001b[0mprint\u001b[0m\u001b[1;33m(\u001b[0m\u001b[0mflowers\u001b[0m\u001b[1;33m[\u001b[0m\u001b[0mcount2\u001b[0m\u001b[1;33m]\u001b[0m\u001b[1;33m)\u001b[0m\u001b[1;33m\u001b[0m\u001b[1;33m\u001b[0m\u001b[0m\n\u001b[0m\u001b[0;32m      7\u001b[0m     \u001b[0mcount1\u001b[0m \u001b[1;33m-=\u001b[0m \u001b[1;36m1\u001b[0m\u001b[1;33m\u001b[0m\u001b[1;33m\u001b[0m\u001b[0m\n\u001b[0;32m      8\u001b[0m     \u001b[0mcount2\u001b[0m \u001b[1;33m+=\u001b[0m \u001b[1;36m1\u001b[0m\u001b[1;33m\u001b[0m\u001b[1;33m\u001b[0m\u001b[0m\n",
      "\u001b[1;31mIndexError\u001b[0m: list index out of range"
     ]
    }
   ],
   "source": [
    "flowers = ['Rose', 'Orchid', 'Tulip']\n",
    "count1 = len(flowers)\n",
    "count2 = flowers.count(\"Rose\")\n",
    "\n",
    "while count1 > 0:\n",
    "    print(flowers[count2])\n",
    "    count1 -= 1\n",
    "    count2 += 1"
   ]
  },
  {
   "cell_type": "code",
   "execution_count": 67,
   "metadata": {},
   "outputs": [
    {
     "name": "stdout",
     "output_type": "stream",
     "text": [
      "n1\n",
      "n2\n"
     ]
    }
   ],
   "source": [
    "for i in {'n1' : 'one', 'n2' : 'two'} : \n",
    "    print(i)"
   ]
  },
  {
   "cell_type": "code",
   "execution_count": 68,
   "metadata": {},
   "outputs": [
    {
     "name": "stdout",
     "output_type": "stream",
     "text": [
      "kevser\n",
      "yavuz\n",
      "meryem\n"
     ]
    }
   ],
   "source": [
    "aile = [\"kevser\",\"yavuz\",\"meryem\"]\n",
    "for x in aile:\n",
    "    print(x)"
   ]
  },
  {
   "cell_type": "code",
   "execution_count": 69,
   "metadata": {},
   "outputs": [
    {
     "name": "stdout",
     "output_type": "stream",
     "text": [
      "1\n",
      "4\n",
      "9\n",
      "16\n"
     ]
    }
   ],
   "source": [
    "iterable = [1, 2, 3, 4]\n",
    "for i in iterable:\n",
    "    print(i**2)"
   ]
  },
  {
   "cell_type": "code",
   "execution_count": 75,
   "metadata": {},
   "outputs": [
    {
     "name": "stdout",
     "output_type": "stream",
     "text": [
      "How many times I should say that I love you : 1\n",
      "I love you!\n"
     ]
    }
   ],
   "source": [
    "times = int(input(\"How many times I should say that I love you : \" ))\n",
    "\n",
    "for i in range(times):\n",
    "    print(\"I love you!\")"
   ]
  },
  {
   "cell_type": "code",
   "execution_count": 80,
   "metadata": {},
   "outputs": [
    {
     "name": "stdout",
     "output_type": "stream",
     "text": [
      "enter a number between 1-10 to list the facts of that number :4\n",
      "4x0: 0\n",
      "4x1: 4\n",
      "4x2: 8\n",
      "4x3: 12\n",
      "4x4: 16\n",
      "4x5: 20\n",
      "4x6: 24\n",
      "4x7: 28\n",
      "4x8: 32\n",
      "4x9: 36\n",
      "4x10: 40\n"
     ]
    }
   ],
   "source": [
    "number = int(input(\"enter a number between 1-10 to list the facts of that number :\"))\n",
    "for a in range(11):\n",
    "    print(\"{}x{}:\".format(number, a), (number *a))"
   ]
  },
  {
   "cell_type": "code",
   "execution_count": 84,
   "metadata": {},
   "outputs": [
    {
     "name": "stdout",
     "output_type": "stream",
     "text": [
      "enter a number between 1-10 to list the facts of that number :6\n",
      "6 * 0 = 0\n",
      "6 * 1 = 6\n",
      "6 * 2 = 12\n",
      "6 * 3 = 18\n",
      "6 * 4 = 24\n",
      "6 * 5 = 30\n",
      "6 * 6 = 36\n",
      "6 * 7 = 42\n",
      "6 * 8 = 48\n",
      "6 * 9 = 54\n",
      "6 * 10 = 60\n"
     ]
    }
   ],
   "source": [
    "number = int(input(\"enter a number between 1-10 to list the facts of that number :\"))\n",
    "for a in range(11):\n",
    "    print(\"%d * %d = %d\" %(number, a,(number * a)))"
   ]
  },
  {
   "cell_type": "code",
   "execution_count": 85,
   "metadata": {},
   "outputs": [
    {
     "name": "stdout",
     "output_type": "stream",
     "text": [
      "5 7 9 11 13 15 17 19 21 23\n"
     ]
    }
   ],
   "source": [
    "print(*range(5,25,2))"
   ]
  },
  {
   "cell_type": "code",
   "execution_count": 87,
   "metadata": {},
   "outputs": [
    {
     "name": "stdout",
     "output_type": "stream",
     "text": [
      "s,e,p,e,r,a,t,e\n"
     ]
    }
   ],
   "source": [
    "print(*('seperate'),sep=(\",\"))"
   ]
  },
  {
   "cell_type": "code",
   "execution_count": 90,
   "metadata": {},
   "outputs": [
    {
     "ename": "TypeError",
     "evalue": "'str' object cannot be interpreted as an integer",
     "output_type": "error",
     "traceback": [
      "\u001b[1;31m---------------------------------------------------------------------------\u001b[0m",
      "\u001b[1;31mTypeError\u001b[0m                                 Traceback (most recent call last)",
      "\u001b[1;32m<ipython-input-90-2dccf8cea831>\u001b[0m in \u001b[0;36m<module>\u001b[1;34m\u001b[0m\n\u001b[1;32m----> 1\u001b[1;33m \u001b[0mprint\u001b[0m\u001b[1;33m(\u001b[0m\u001b[1;33m*\u001b[0m\u001b[0mrange\u001b[0m\u001b[1;33m(\u001b[0m\u001b[1;33m(\u001b[0m\u001b[1;34m'seperate'\u001b[0m\u001b[1;33m)\u001b[0m\u001b[1;33m)\u001b[0m\u001b[1;33m)\u001b[0m\u001b[1;33m\u001b[0m\u001b[1;33m\u001b[0m\u001b[0m\n\u001b[0m",
      "\u001b[1;31mTypeError\u001b[0m: 'str' object cannot be interpreted as an integer"
     ]
    }
   ],
   "source": [
    "print(*('seperate'))"
   ]
  },
  {
   "cell_type": "code",
   "execution_count": 100,
   "metadata": {},
   "outputs": [
    {
     "ename": "TypeError",
     "evalue": "int() argument must be a string, a bytes-like object or a number, not 'range'",
     "output_type": "error",
     "traceback": [
      "\u001b[1;31m---------------------------------------------------------------------------\u001b[0m",
      "\u001b[1;31mTypeError\u001b[0m                                 Traceback (most recent call last)",
      "\u001b[1;32m<ipython-input-100-98cd841f1336>\u001b[0m in \u001b[0;36m<module>\u001b[1;34m\u001b[0m\n\u001b[0;32m      1\u001b[0m \u001b[0mflowers\u001b[0m \u001b[1;33m=\u001b[0m \u001b[1;33m[\u001b[0m\u001b[1;34m'Rose'\u001b[0m\u001b[1;33m,\u001b[0m \u001b[1;34m'Orchid'\u001b[0m\u001b[1;33m,\u001b[0m \u001b[1;34m'Tulip'\u001b[0m\u001b[1;33m]\u001b[0m\u001b[1;33m\u001b[0m\u001b[1;33m\u001b[0m\u001b[0m\n\u001b[0;32m      2\u001b[0m \u001b[0ma\u001b[0m \u001b[1;33m=\u001b[0m \u001b[0mlen\u001b[0m\u001b[1;33m(\u001b[0m\u001b[0mflowers\u001b[0m\u001b[1;33m)\u001b[0m\u001b[1;33m\u001b[0m\u001b[1;33m\u001b[0m\u001b[0m\n\u001b[1;32m----> 3\u001b[1;33m \u001b[0mb\u001b[0m \u001b[1;33m=\u001b[0m \u001b[0mint\u001b[0m\u001b[1;33m(\u001b[0m\u001b[0mrange\u001b[0m\u001b[1;33m(\u001b[0m\u001b[1;36m0\u001b[0m\u001b[1;33m)\u001b[0m\u001b[1;33m)\u001b[0m\u001b[1;33m\u001b[0m\u001b[1;33m\u001b[0m\u001b[0m\n\u001b[0m\u001b[0;32m      4\u001b[0m \u001b[1;33m\u001b[0m\u001b[0m\n\u001b[0;32m      5\u001b[0m \u001b[1;32mwhile\u001b[0m \u001b[0ma\u001b[0m \u001b[1;33m>\u001b[0m \u001b[1;36m0\u001b[0m\u001b[1;33m:\u001b[0m\u001b[1;33m\u001b[0m\u001b[1;33m\u001b[0m\u001b[0m\n",
      "\u001b[1;31mTypeError\u001b[0m: int() argument must be a string, a bytes-like object or a number, not 'range'"
     ]
    }
   ],
   "source": [
    "flowers = ['Rose', 'Orchid', 'Tulip']\n",
    "a = len(flowers)\n",
    "b = int(range(0))\n",
    "\n",
    "while a > 0:\n",
    "    print(flowers[b])\n",
    "    a -= 1\n",
    "    b += 1\n",
    " "
   ]
  },
  {
   "cell_type": "code",
   "execution_count": 97,
   "metadata": {},
   "outputs": [
    {
     "name": "stdout",
     "output_type": "stream",
     "text": [
      "Christopher\n",
      "Susan\n"
     ]
    }
   ],
   "source": [
    "people = [\"Christopher\",\"Susan\"]\n",
    "a = 0\n",
    "\n",
    "while a < len(people):\n",
    "      print(people[a])\n",
    "      a += 1"
   ]
  },
  {
   "cell_type": "code",
   "execution_count": null,
   "metadata": {},
   "outputs": [],
   "source": []
  }
 ],
 "metadata": {
  "kernelspec": {
   "display_name": "Python 3",
   "language": "python",
   "name": "python3"
  },
  "language_info": {
   "codemirror_mode": {
    "name": "ipython",
    "version": 3
   },
   "file_extension": ".py",
   "mimetype": "text/x-python",
   "name": "python",
   "nbconvert_exporter": "python",
   "pygments_lexer": "ipython3",
   "version": "3.7.6"
  }
 },
 "nbformat": 4,
 "nbformat_minor": 4
}
